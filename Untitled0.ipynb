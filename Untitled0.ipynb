{
  "nbformat": 4,
  "nbformat_minor": 0,
  "metadata": {
    "colab": {
      "provenance": [],
      "mount_file_id": "1FBasiGiq3ok5YUXP7e_ZEp-IB4mYBLOF",
      "authorship_tag": "ABX9TyN4Ax1xmXS5S5DF7Pg8IXap",
      "include_colab_link": true
    },
    "kernelspec": {
      "name": "python3",
      "display_name": "Python 3"
    },
    "language_info": {
      "name": "python"
    }
  },
  "cells": [
    {
      "cell_type": "markdown",
      "metadata": {
        "id": "view-in-github",
        "colab_type": "text"
      },
      "source": [
        "<a href=\"https://colab.research.google.com/github/Soumil221/face-recognition/blob/main/Untitled0.ipynb\" target=\"_parent\"><img src=\"https://colab.research.google.com/assets/colab-badge.svg\" alt=\"Open In Colab\"/></a>"
      ]
    },
    {
      "cell_type": "code",
      "execution_count": null,
      "metadata": {
        "colab": {
          "base_uri": "https://localhost:8080/"
        },
        "id": "eNu-qdn6VgQK",
        "outputId": "0a89eb65-b1f4-4196-f934-d1990f33d92d"
      },
      "outputs": [
        {
          "output_type": "stream",
          "name": "stdout",
          "text": [
            "Path to model files: /root/.cache/kagglehub/models/faiqueali/facenet-tensorflow/tensorFlow2/default/2\n",
            "Model loaded successfully\n",
            "Signature loaded successfully\n",
            "Distance between faces: 19.862173080444336\n",
            "Faces are similar: False\n"
          ]
        }
      ],
      "source": [
        "import tensorflow as tf\n",
        "import numpy as np\n",
        "from tensorflow.keras.preprocessing import image\n",
        "from tensorflow.keras.applications.resnet50 import preprocess_input\n",
        "import kagglehub\n",
        "\n",
        "# Download latest version\n",
        "model_dir = kagglehub.model_download(\"faiqueali/facenet-tensorflow/tensorFlow2/default\")\n",
        "\n",
        "print(\"Path to model files:\", model_dir)\n",
        "\n",
        "\n",
        "# Load the model\n",
        "try:\n",
        "    model = tf.saved_model.load(model_dir)\n",
        "    print(\"Model loaded successfully\")\n",
        "except Exception as e:\n",
        "    print(f\"Error loading model: {e}\")\n",
        "\n",
        "# Get the callable function from the loaded model\n",
        "try:\n",
        "    infer = model.signatures['serving_default']\n",
        "    print(\"Signature loaded successfully\")\n",
        "except KeyError:\n",
        "    print(\"Error: 'serving_default' signature not found in the model.\")\n",
        "\n",
        "def preprocess_image(img_path):\n",
        "    \"\"\"Load and preprocess the image.\"\"\"\n",
        "    img = image.load_img(img_path, target_size=(160, 160))\n",
        "    img_array = image.img_to_array(img)\n",
        "    img_array = np.expand_dims(img_array, axis=0)\n",
        "    img_array = preprocess_input(img_array)\n",
        "    return img_array\n",
        "\n",
        "def get_face_embedding(img_path):\n",
        "    \"\"\"Generate face embedding from an image.\"\"\"\n",
        "    img = preprocess_image(img_path)\n",
        "    # Perform inference using the callable function\n",
        "    try:\n",
        "        result = infer(tf.convert_to_tensor(img, dtype=tf.float32))\n",
        "        embedding = result['Bottleneck_BatchNorm'].numpy()  # Ensure the correct output key\n",
        "        return embedding\n",
        "    except Exception as e:\n",
        "        print(f\"Error during inference: {e}\")\n",
        "        return None\n",
        "\n",
        "def check_faces_similarity(img_path1, img_path2, threshold=6):\n",
        "    \"\"\"Verify if two faces are the same person based on embeddings.\"\"\"\n",
        "    embedding1 = get_face_embedding(img_path1)\n",
        "    embedding2 = get_face_embedding(img_path2)\n",
        "\n",
        "    if embedding1 is not None and embedding2 is not None:\n",
        "        # Compute Euclidean distance between embeddings\n",
        "        distance = np.linalg.norm(embedding1 - embedding2)\n",
        "        print(f'Distance between faces: {distance}')\n",
        "        return distance < threshold\n",
        "    else:\n",
        "        print(\"Error: Could not compute embeddings for one or both images.\")\n",
        "        return False\n",
        "\n",
        "# Example usage\n",
        "img_path1 = '/content/unnamed (1).jpg'\n",
        "img_path2 = '/content/WhatsApp Image 2024-10-09 at 11.12.12.jpeg'\n",
        "\n",
        "are_similar = check_faces_similarity(img_path1, img_path2)\n",
        "print(f'Faces are similar: {are_similar}')"
      ]
    },
    {
      "cell_type": "code",
      "source": [],
      "metadata": {
        "id": "0DZUnUFzWL62"
      },
      "execution_count": null,
      "outputs": []
    }
  ]
}